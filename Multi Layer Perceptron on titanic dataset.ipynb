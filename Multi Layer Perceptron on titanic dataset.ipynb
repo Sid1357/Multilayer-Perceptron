{
 "cells": [
  {
   "cell_type": "markdown",
   "id": "d0570fa0",
   "metadata": {},
   "source": [
    "# Importing Libraries"
   ]
  },
  {
   "cell_type": "code",
   "execution_count": 7,
   "id": "ca3c6a71",
   "metadata": {},
   "outputs": [],
   "source": [
    "import numpy as np\n",
    "import pandas as pd\n",
    "import matplotlib.pyplot as plt\n",
    "import seaborn as sns\n",
    "sns.set(rc={'figure.figsize':(12, 10)})\n",
    "import warnings\n",
    "warnings.filterwarnings('ignore')\n",
    "import random"
   ]
  },
  {
   "cell_type": "code",
   "execution_count": 8,
   "id": "ad82bd5f",
   "metadata": {},
   "outputs": [],
   "source": [
    "random.seed(10)"
   ]
  },
  {
   "cell_type": "markdown",
   "id": "fd14f383",
   "metadata": {},
   "source": [
    "# Loading Data"
   ]
  },
  {
   "cell_type": "code",
   "execution_count": 9,
   "id": "34ef7af7",
   "metadata": {},
   "outputs": [
    {
     "data": {
      "text/html": [
       "<div>\n",
       "<style scoped>\n",
       "    .dataframe tbody tr th:only-of-type {\n",
       "        vertical-align: middle;\n",
       "    }\n",
       "\n",
       "    .dataframe tbody tr th {\n",
       "        vertical-align: top;\n",
       "    }\n",
       "\n",
       "    .dataframe thead th {\n",
       "        text-align: right;\n",
       "    }\n",
       "</style>\n",
       "<table border=\"1\" class=\"dataframe\">\n",
       "  <thead>\n",
       "    <tr style=\"text-align: right;\">\n",
       "      <th></th>\n",
       "      <th>PassengerId</th>\n",
       "      <th>Survived</th>\n",
       "      <th>Pclass</th>\n",
       "      <th>Name</th>\n",
       "      <th>Sex</th>\n",
       "      <th>Age</th>\n",
       "      <th>SibSp</th>\n",
       "      <th>Parch</th>\n",
       "      <th>Ticket</th>\n",
       "      <th>Fare</th>\n",
       "      <th>Cabin</th>\n",
       "      <th>Embarked</th>\n",
       "    </tr>\n",
       "  </thead>\n",
       "  <tbody>\n",
       "    <tr>\n",
       "      <th>0</th>\n",
       "      <td>1</td>\n",
       "      <td>0</td>\n",
       "      <td>3</td>\n",
       "      <td>Braund, Mr. Owen Harris</td>\n",
       "      <td>male</td>\n",
       "      <td>22.0</td>\n",
       "      <td>1</td>\n",
       "      <td>0</td>\n",
       "      <td>A/5 21171</td>\n",
       "      <td>7.2500</td>\n",
       "      <td>NaN</td>\n",
       "      <td>S</td>\n",
       "    </tr>\n",
       "    <tr>\n",
       "      <th>1</th>\n",
       "      <td>2</td>\n",
       "      <td>1</td>\n",
       "      <td>1</td>\n",
       "      <td>Cumings, Mrs. John Bradley (Florence Briggs Th...</td>\n",
       "      <td>female</td>\n",
       "      <td>38.0</td>\n",
       "      <td>1</td>\n",
       "      <td>0</td>\n",
       "      <td>PC 17599</td>\n",
       "      <td>71.2833</td>\n",
       "      <td>C85</td>\n",
       "      <td>C</td>\n",
       "    </tr>\n",
       "    <tr>\n",
       "      <th>2</th>\n",
       "      <td>3</td>\n",
       "      <td>1</td>\n",
       "      <td>3</td>\n",
       "      <td>Heikkinen, Miss. Laina</td>\n",
       "      <td>female</td>\n",
       "      <td>26.0</td>\n",
       "      <td>0</td>\n",
       "      <td>0</td>\n",
       "      <td>STON/O2. 3101282</td>\n",
       "      <td>7.9250</td>\n",
       "      <td>NaN</td>\n",
       "      <td>S</td>\n",
       "    </tr>\n",
       "    <tr>\n",
       "      <th>3</th>\n",
       "      <td>4</td>\n",
       "      <td>1</td>\n",
       "      <td>1</td>\n",
       "      <td>Futrelle, Mrs. Jacques Heath (Lily May Peel)</td>\n",
       "      <td>female</td>\n",
       "      <td>35.0</td>\n",
       "      <td>1</td>\n",
       "      <td>0</td>\n",
       "      <td>113803</td>\n",
       "      <td>53.1000</td>\n",
       "      <td>C123</td>\n",
       "      <td>S</td>\n",
       "    </tr>\n",
       "    <tr>\n",
       "      <th>4</th>\n",
       "      <td>5</td>\n",
       "      <td>0</td>\n",
       "      <td>3</td>\n",
       "      <td>Allen, Mr. William Henry</td>\n",
       "      <td>male</td>\n",
       "      <td>35.0</td>\n",
       "      <td>0</td>\n",
       "      <td>0</td>\n",
       "      <td>373450</td>\n",
       "      <td>8.0500</td>\n",
       "      <td>NaN</td>\n",
       "      <td>S</td>\n",
       "    </tr>\n",
       "  </tbody>\n",
       "</table>\n",
       "</div>"
      ],
      "text/plain": [
       "   PassengerId  Survived  Pclass  \\\n",
       "0            1         0       3   \n",
       "1            2         1       1   \n",
       "2            3         1       3   \n",
       "3            4         1       1   \n",
       "4            5         0       3   \n",
       "\n",
       "                                                Name     Sex   Age  SibSp  \\\n",
       "0                            Braund, Mr. Owen Harris    male  22.0      1   \n",
       "1  Cumings, Mrs. John Bradley (Florence Briggs Th...  female  38.0      1   \n",
       "2                             Heikkinen, Miss. Laina  female  26.0      0   \n",
       "3       Futrelle, Mrs. Jacques Heath (Lily May Peel)  female  35.0      1   \n",
       "4                           Allen, Mr. William Henry    male  35.0      0   \n",
       "\n",
       "   Parch            Ticket     Fare Cabin Embarked  \n",
       "0      0         A/5 21171   7.2500   NaN        S  \n",
       "1      0          PC 17599  71.2833   C85        C  \n",
       "2      0  STON/O2. 3101282   7.9250   NaN        S  \n",
       "3      0            113803  53.1000  C123        S  \n",
       "4      0            373450   8.0500   NaN        S  "
      ]
     },
     "execution_count": 9,
     "metadata": {},
     "output_type": "execute_result"
    }
   ],
   "source": [
    "data = pd.read_csv('train.csv')\n",
    "data.head()"
   ]
  },
  {
   "cell_type": "code",
   "execution_count": 10,
   "id": "adcd2a0b",
   "metadata": {},
   "outputs": [
    {
     "name": "stdout",
     "output_type": "stream",
     "text": [
      "<class 'pandas.core.frame.DataFrame'>\n",
      "RangeIndex: 891 entries, 0 to 890\n",
      "Data columns (total 12 columns):\n",
      " #   Column       Non-Null Count  Dtype  \n",
      "---  ------       --------------  -----  \n",
      " 0   PassengerId  891 non-null    int64  \n",
      " 1   Survived     891 non-null    int64  \n",
      " 2   Pclass       891 non-null    int64  \n",
      " 3   Name         891 non-null    object \n",
      " 4   Sex          891 non-null    object \n",
      " 5   Age          714 non-null    float64\n",
      " 6   SibSp        891 non-null    int64  \n",
      " 7   Parch        891 non-null    int64  \n",
      " 8   Ticket       891 non-null    object \n",
      " 9   Fare         891 non-null    float64\n",
      " 10  Cabin        204 non-null    object \n",
      " 11  Embarked     889 non-null    object \n",
      "dtypes: float64(2), int64(5), object(5)\n",
      "memory usage: 83.7+ KB\n"
     ]
    }
   ],
   "source": [
    "data.info()"
   ]
  },
  {
   "cell_type": "code",
   "execution_count": 14,
   "id": "d08a761a",
   "metadata": {},
   "outputs": [],
   "source": [
    "dict_live = {\n",
    "    0:\"Died\",\n",
    "    1:'Survived'\n",
    "}\n",
    "\n",
    "dict_sex = {\n",
    "    'male': 0,\n",
    "    'female': 1\n",
    "}\n",
    "data['Bsex'] = data['Sex'].apply(lambda x: dict_sex[x])\n",
    "\n",
    "\n",
    "features = data[['Pclass', 'Bsex']].to_numpy()\n",
    "labels = data['Survived'].to_numpy()"
   ]
  },
  {
   "cell_type": "markdown",
   "id": "72e75c32",
   "metadata": {},
   "source": [
    "# Splitting the dataset"
   ]
  },
  {
   "cell_type": "code",
   "execution_count": 50,
   "id": "f7b523a9",
   "metadata": {},
   "outputs": [],
   "source": [
    "from sklearn.model_selection import train_test_split\n",
    "x_train, x_test, y_train, y_test = train_test_split(features, labels, test_size=0.2, random_state=5)"
   ]
  },
  {
   "cell_type": "code",
   "execution_count": 51,
   "id": "3e0e8434",
   "metadata": {},
   "outputs": [
    {
     "data": {
      "text/plain": [
       "array([[1, 1],\n",
       "       [2, 1],\n",
       "       [3, 1],\n",
       "       ...,\n",
       "       [1, 0],\n",
       "       [3, 0],\n",
       "       [1, 0]], dtype=int64)"
      ]
     },
     "execution_count": 51,
     "metadata": {},
     "output_type": "execute_result"
    }
   ],
   "source": [
    "x_train"
   ]
  },
  {
   "cell_type": "markdown",
   "id": "642f2d2c",
   "metadata": {},
   "source": [
    "# MultiLayer Perceptron"
   ]
  },
  {
   "cell_type": "markdown",
   "id": "791f6659",
   "metadata": {},
   "source": [
    "## Preparing Functions"
   ]
  },
  {
   "cell_type": "code",
   "execution_count": 52,
   "id": "fc8ca316",
   "metadata": {},
   "outputs": [],
   "source": [
    "def sigmoid(x, derivative = False):\n",
    "    if(derivative==True):\n",
    "        f = 1/(1+np.exp(-x)) * (1 - 1/(1+np.exp(-x)))\n",
    "    else:\n",
    "        f = 1/(1+np.exp(-x))\n",
    "    return f\n",
    "\n",
    "def ReLu(x, derivative = False):\n",
    "    if(derivative==True):\n",
    "        f = np.heaviside(x, 1)\n",
    "    else:\n",
    "        f = np.maximum(0, x)\n",
    "    return f"
   ]
  },
  {
   "cell_type": "markdown",
   "id": "63bb7ff0",
   "metadata": {},
   "source": [
    "## Training Model"
   ]
  },
  {
   "cell_type": "code",
   "execution_count": 53,
   "id": "eb422735",
   "metadata": {},
   "outputs": [],
   "source": [
    "def train_ANN(x_train, y_train, h1_units = 4, h2_units = 4, learning_rate = 0.001):\n",
    "    random.seed(10)\n",
    "    w1 = 2*np.random.rand(h1_units, x_train.shape[1])\n",
    "    b1 = np.random.rand(h1_units)\n",
    "    \n",
    "    w2 = 2*np.random.rand(h2_units, h1_units)\n",
    "    b2 = np.random.rand(h2_units)\n",
    "    \n",
    "    w_out = 2*np.random.rand(h2_units)\n",
    "    b_out = np.random.rand(1)\n",
    "    \n",
    "    loss = []\n",
    "    vec_y = []\n",
    "    \n",
    "    for i in range(x_train.shape[0]):\n",
    "        x_data = x_train[i]\n",
    "        \n",
    "        h1 = ReLu(np.dot(w1, x_data) + b1)\n",
    "        h2 = ReLu(np.dot(w2, h1) + b2)\n",
    "        y = sigmoid(np.dot(w_out, h2) + b_out) # Beacuse classification, therefore sigmoid function\n",
    "        \n",
    "        delta_out = (y-y_train[i])*sigmoid(y, derivative=True)\n",
    "        delta_2 = delta_out*w_out*ReLu(h2, derivative=True)\n",
    "        delta1 = np.dot(delta_2, w2)*ReLu(h1, derivative=True)\n",
    "        \n",
    "        w_out = w_out - learning_rate*delta_out*h2\n",
    "        b_out = b_out - learning_rate*delta_out\n",
    "        \n",
    "        w2 = w2 - learning_rate*np.kron(delta_2, h1).reshape(h2_units, h1_units)\n",
    "        b2 = b2 - learning_rate*delta_2\n",
    "        \n",
    "        w1 = w1 - learning_rate*np.kron(delta1, x_data).reshape(h1_units, x_data.shape[0])\n",
    "        b1 = b1 - learning_rate*delta1\n",
    "        \n",
    "        loss.append((1/2)*(y - y_train[i])**2)\n",
    "        vec_y.append(y[0])\n",
    "        \n",
    "    batch_loss = []\n",
    "    for i in range(10):\n",
    "        loss_avg = 0\n",
    "        for m in range(0, 60):\n",
    "            loss_avg += vec_y[60*i + m]/60\n",
    "        batch_loss.append(loss_avg)\n",
    "        \n",
    "    plt.figure(figsize=(10, 6))\n",
    "    plt.plot(np.arange(1, len(batch_loss)+1), batch_loss)\n",
    "    plt.title('Average loss by epoch', fontsize=20)\n",
    "    plt.xlabel('Epoch', fontsize=16)\n",
    "    plt.ylabel('Loss', fontsize=16)\n",
    "    plt.show()\n",
    "    \n",
    "    return w1, b1, w2, b2, w_out, b_out, loss"
   ]
  },
  {
   "cell_type": "code",
   "execution_count": 54,
   "id": "05f81a02",
   "metadata": {},
   "outputs": [
    {
     "data": {
      "image/png": "[encoded data removed]",
      "text/plain": [
       "<Figure size 1000x600 with 1 Axes>"
      ]
     },
     "metadata": {},
     "output_type": "display_data"
    }
   ],
   "source": [
    "w1, b1, w2, b2, w_out, b_out, loss = train_ANN(x_train, y_train)"
   ]
  },
  {
   "cell_type": "markdown",
   "id": "ffa3688d",
   "metadata": {},
   "source": [
    "# Testing Model"
   ]
  },
  {
   "cell_type": "code",
   "execution_count": 61,
   "id": "70038782",
   "metadata": {},
   "outputs": [],
   "source": [
    "def ANN_pred(x_test, w1, b1, w2, b2, w_out, b_out):\n",
    "    pred = []\n",
    "    for i in range(x_test.shape[0]):\n",
    "        x = x_test[i]\n",
    "        z1 = ReLu(np.dot(w1, x) + b1)\n",
    "        z2 = ReLu(np.dot(w2, z1) + b2)\n",
    "        y = sigmoid(np.dot(w_out, z2) + b_out) # Beacuse classification, therefore sigmoid function\n",
    "        \n",
    "        pred.append(np.heaviside(y-0.5, 1)[0])\n",
    "    return np.array(pred)"
   ]
  },
  {
   "cell_type": "code",
   "execution_count": 62,
   "id": "0d03b279",
   "metadata": {},
   "outputs": [],
   "source": [
    "predictions = ANN_pred(x_test, w1, b1, w2, b2, w_out, b_out)"
   ]
  },
  {
   "cell_type": "code",
   "execution_count": 63,
   "id": "2972aaed",
   "metadata": {},
   "outputs": [
    {
     "name": "stdout",
     "output_type": "stream",
     "text": [
      "0.7206703910614525\n"
     ]
    }
   ],
   "source": [
    "from sklearn.metrics import accuracy_score\n",
    "print(accuracy_score(y_test, predictions))"
   ]
  },
  {
   "cell_type": "code",
   "execution_count": null,
   "id": "8d811cd7",
   "metadata": {},
   "outputs": [],
   "source": []
  },
  {
   "cell_type": "code",
   "execution_count": null,
   "id": "2bfb07fe",
   "metadata": {},
   "outputs": [],
   "source": []
  },
  {
   "cell_type": "code",
   "execution_count": null,
   "id": "c720b283",
   "metadata": {},
   "outputs": [],
   "source": []
  }
 ],
 "metadata": {
  "kernelspec": {
   "display_name": "Python 3 (ipykernel)",
   "language": "python",
   "name": "python3"
  },
  "language_info": {
   "codemirror_mode": {
    "name": "ipython",
    "version": 3
   },
   "file_extension": ".py",
   "mimetype": "text/x-python",
   "name": "python",
   "nbconvert_exporter": "python",
   "pygments_lexer": "ipython3",
   "version": "3.10.9"
  }
 },
 "nbformat": 4,
 "nbformat_minor": 5
}
